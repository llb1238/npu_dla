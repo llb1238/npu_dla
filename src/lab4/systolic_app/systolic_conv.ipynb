{
 "cells": [
  {
   "cell_type": "markdown",
   "source": [
    "# 脉动阵列 - 卷积测试\n",
    "## 1. 加载Overlay"
   ],
   "metadata": {}
  },
  {
   "cell_type": "code",
   "execution_count": 1,
   "source": [
    "import time\r\n",
    "import random\r\n",
    "from pynq import Overlay\r\n",
    "import numpy as np\r\n",
    "from pynq import Xlnk\r\n",
    "\r\n",
    "# 加载Overlay\r\n",
    "overlay = Overlay(\"systolic_array.bit\")\r\n",
    "print(\"Overlay downloaded successfully!\")"
   ],
   "outputs": [
    {
     "output_type": "display_data",
     "data": {
      "application/javascript": "\nrequire(['notebook/js/codecell'], function(codecell) {\n  codecell.CodeCell.options_default.highlight_modes[\n      'magic_text/x-csrc'] = {'reg':[/^%%microblaze/]};\n  Jupyter.notebook.events.one('kernel_ready.Kernel', function(){\n      Jupyter.notebook.get_cells().map(function(cell){\n          if (cell.cell_type == 'code'){ cell.auto_highlight(); } }) ;\n  });\n});\n"
     },
     "metadata": {}
    },
    {
     "output_type": "stream",
     "name": "stderr",
     "text": [
      "/usr/local/lib/python3.6/dist-packages/pynq/pl_server/device.py:594: UserWarning: Users will not get PARAMETERS / REGISTERS information through TCL files. HWH file is recommended.\n",
      "  warnings.warn(message, UserWarning)\n"
     ]
    },
    {
     "output_type": "stream",
     "name": "stdout",
     "text": [
      "Overlay downloaded successfully!\n"
     ]
    }
   ],
   "metadata": {}
  },
  {
   "cell_type": "markdown",
   "source": [
    "## 2. 定义IP核驱动"
   ],
   "metadata": {}
  },
  {
   "cell_type": "code",
   "execution_count": 2,
   "source": [
    "systolic_array_ip = overlay.systolic_array_0\r\n",
    "xlnk = Xlnk()\r\n",
    "\r\n",
    "# 脉动阵列驱动函数\r\n",
    "def RunSystolic(array, din_a, din_b, bias, out):\r\n",
    "    array.write(0x10, din_a.shape[0])\r\n",
    "    array.write(0x18, din_a.shape[1])\r\n",
    "    array.write(0x20, din_b.shape[1])\r\n",
    "    array.write(0x28, din_a.physical_address)\r\n",
    "    array.write(0x30, din_b.physical_address)\r\n",
    "    array.write(0x38, bias.physical_address)\r\n",
    "    array.write(0x40, out.physical_address)\r\n",
    "    array.write(0, (array.read(0) & 0x80) | 0x01)\r\n",
    "    tp = array.read(0)\r\n",
    "    while not ((tp >> 1) & 0x1):\r\n",
    "        tp = array.read(0)"
   ],
   "outputs": [],
   "metadata": {}
  },
  {
   "cell_type": "markdown",
   "source": [
    "## 3. 生成测试数据"
   ],
   "metadata": {}
  },
  {
   "cell_type": "code",
   "execution_count": 3,
   "source": [
    "channel  = 3    # 输入特征图通道数\r\n",
    "feat_row = 28   # 输入特征图高\r\n",
    "feat_col = 28   # 输入特征图宽\r\n",
    "core_num = 128  # 卷积核个数/输出特征图通道数\r\n",
    "core_w   = 3    # 卷积核边长\r\n",
    "stride   = 1    # 卷积步长\r\n",
    "\r\n",
    "out_row = (int)((feat_row - core_w)/stride + 1)\r\n",
    "out_col = (int)((feat_col - core_w)/stride + 1)\r\n",
    "\r\n",
    "core_size = core_w*core_w\r\n",
    "out_size  = out_row*out_col\r\n",
    "\r\n",
    "feature = np.zeros((channel, feat_row, feat_col), dtype = np.float32)\r\n",
    "core    = np.zeros((core_num, channel, core_w, core_w), dtype = np.float32)\r\n",
    "ref     = np.zeros((core_num, out_row, out_col), dtype = np.float32)\r\n",
    "\r\n",
    "# 在PS端的DRAM中为IP核的输入输出数据分配存储空间\r\n",
    "buf_a = xlnk.cma_array(shape = (core_num, channel*core_size), cacheable = 0, dtype = np.float32)\r\n",
    "buf_b = xlnk.cma_array(shape = (channel*core_size, out_size), cacheable = 0, dtype = np.float32)\r\n",
    "buf_c = xlnk.cma_array(shape = (core_num, out_size), cacheable = 0, dtype = np.float32)\r\n",
    "bias  = xlnk.cma_array(shape = (core_num), cacheable = 0, dtype = np.float32)\r\n",
    "\r\n",
    "# 随机生成测试数据\r\n",
    "for ch in range(channel):\r\n",
    "    for i in range(feat_row):\r\n",
    "        for j in range(feat_col):\r\n",
    "            feature[ch][i][j] = random.uniform(-20, 20)\r\n",
    "\r\n",
    "for cnum in range(core_num):\r\n",
    "    for ch in range(channel):\r\n",
    "        for m in range(core_w):\r\n",
    "            for n in range(core_w):\r\n",
    "                core[cnum][ch][m][n] = random.uniform(-1, 1)\r\n",
    "    \r\n",
    "    bias[cnum] = random.uniform(-2, 5)\r\n",
    "\r\n",
    "print(\"ready for test\")"
   ],
   "outputs": [
    {
     "output_type": "stream",
     "name": "stdout",
     "text": [
      "ready for test\n"
     ]
    }
   ],
   "metadata": {}
  },
  {
   "cell_type": "markdown",
   "source": [
    "## 4. 运行测试\n",
    "### 4.1 软件卷积"
   ],
   "metadata": {}
  },
  {
   "cell_type": "code",
   "execution_count": 4,
   "source": [
    "pt0 = time.clock()\r\n",
    "\r\n",
    "for ch_o in range(core_num):\r\n",
    "    for r_o in range(out_row):\r\n",
    "        for c_o in range(out_col):\r\n",
    "            for ch_i in range(channel):\r\n",
    "                for r in range(core_w):\r\n",
    "                    for c in range(core_w):\r\n",
    "                        ref[ch_o][r_o][c_o] += feature[ch_i][r_o*stride + r][c_o*stride + c] * core[ch_o][ch_i][r][c]\r\n",
    "            ref[ch_o][r_o][c_o] += bias[ch_o]\r\n",
    "\r\n",
    "pt1 = time.clock()\r\n",
    "time_sw = pt1 - pt0\r\n",
    "\r\n",
    "print(\"pure software: %fs\" % time_sw)"
   ],
   "outputs": [
    {
     "output_type": "stream",
     "name": "stdout",
     "text": [
      "pure software: 76.609389s\n"
     ]
    }
   ],
   "metadata": {}
  },
  {
   "cell_type": "markdown",
   "source": [
    "### 4.2 硬件卷积"
   ],
   "metadata": {}
  },
  {
   "cell_type": "code",
   "execution_count": 5,
   "source": [
    "pt0 = time.clock()\r\n",
    "\r\n",
    "# TODO: 调整卷积核与特征图，以适应脉动阵列\r\n",
    "buf_a = ???\r\n",
    "buf_b = ???\r\n",
    "\r\n",
    "# 利用硬件矩阵乘法实现卷积加速\r\n",
    "RunSystolic(systolic_array_ip, buf_a, buf_b, bias, buf_c)\r\n",
    "\r\n",
    "# 调整输出特征图的形状\r\n",
    "buf_c = buf_c.reshape(core_num, out_row, out_col)\r\n",
    "\r\n",
    "pt1 = time.clock()\r\n",
    "time_hw = pt1 - pt0\r\n",
    "\r\n",
    "print(\"hardware-accelerated: %fs\" % time_hw)\r\n",
    "print(\"speedup: %.2f\" % (time_sw/time_hw))"
   ],
   "outputs": [
    {
     "output_type": "stream",
     "name": "stdout",
     "text": [
      "hardware-accelerated: 1.971936s\n",
      "speedup: 38.85\n"
     ]
    }
   ],
   "metadata": {}
  },
  {
   "cell_type": "markdown",
   "source": [
    "### 4.3 校验结果，计算加速比"
   ],
   "metadata": {}
  },
  {
   "cell_type": "code",
   "execution_count": 6,
   "source": [
    "def relative_err(ref, val):\r\n",
    "    err = val - ref if val > ref else ref - val\r\n",
    "    return err/ref if ref != 0 else err\r\n",
    "\r\n",
    "flag = True\r\n",
    "\r\n",
    "for ch in range(core_num):\r\n",
    "    if flag is False:\r\n",
    "        break\r\n",
    "    for r in range(out_row):\r\n",
    "        if flag is False:\r\n",
    "            break\r\n",
    "        for c in range(out_col):\r\n",
    "            if relative_err(ref[ch][r][c], buf_c[ch][r][c]) > 0.01:\r\n",
    "                print(\"Test failed at (%d, %d, %d)\" % (ch, r, c))\r\n",
    "                flag = False\r\n",
    "                break\r\n",
    "\r\n",
    "if flag:\r\n",
    "    print(\"Test Passed!\")\r\n",
    "\r\n",
    "print(\"\\nreference result: \")\r\n",
    "print(ref)\r\n",
    "print(\"\\narray output:\")\r\n",
    "print(buf_c)"
   ],
   "outputs": [
    {
     "output_type": "stream",
     "name": "stdout",
     "text": [
      "Test Passed!\n",
      "\n",
      "reference result: \n",
      "[[[ -6.65979996e+01   3.57884369e+01   3.08080654e+01 ...,  -2.56579056e+01\n",
      "     2.51403561e+01   2.01629944e+01]\n",
      "  [ -2.64360561e+01   9.17732239e+00   3.54348717e+01 ...,  -1.36365671e+01\n",
      "     1.29201860e+01  -3.01656952e+01]\n",
      "  [ -3.06503391e+01   1.56007624e+01   1.91584454e+01 ...,  -3.29652977e+01\n",
      "    -7.89732504e+00   3.28605080e+01]\n",
      "  ..., \n",
      "  [ -7.45057373e+01   7.73295898e+01  -5.03282433e+01 ...,   2.76572666e+01\n",
      "     5.94777822e+00   6.19455528e+01]\n",
      "  [ -1.22332010e+01  -2.48603992e+01  -6.16130161e+00 ...,  -2.89679623e+01\n",
      "    -8.74921036e+00  -6.03145790e+01]\n",
      "  [  3.82904549e+01   2.44718590e+01   4.21352005e+01 ...,  -1.45621252e+01\n",
      "     2.72701302e+01  -2.33986435e+01]]\n",
      "\n",
      " [[ -3.10340977e+00   1.98069611e+01   1.48481884e+01 ...,   4.97260332e+00\n",
      "     6.91085720e+00   9.45441055e+00]\n",
      "  [ -7.98404574e-01   3.69464340e+01  -1.62201653e+01 ...,  -2.74526615e+01\n",
      "    -1.85471363e+01  -2.84474010e+01]\n",
      "  [  8.25180817e+01  -1.23186672e+00  -6.16100311e+00 ...,   4.20277672e+01\n",
      "     1.45076876e+01   3.90118294e+01]\n",
      "  ..., \n",
      "  [  2.92782841e+01   3.56311264e+01  -5.54660835e+01 ...,   1.89833622e+01\n",
      "    -1.55976391e+01  -1.63563843e+01]\n",
      "  [  2.11467037e+01  -1.23590078e+01  -4.53736038e+01 ...,  -2.30183296e+01\n",
      "     1.04320812e+01   3.34708595e+01]\n",
      "  [ -3.08124638e+01  -2.44740353e+01   4.51353550e+00 ...,  -3.43935204e+01\n",
      "     6.08710051e-02   2.08080978e+01]]\n",
      "\n",
      " [[  2.30994415e+01  -2.58660660e+01   1.47532482e+01 ...,   2.83151016e+01\n",
      "    -4.42299881e+01  -3.96175652e+01]\n",
      "  [  1.85515518e+01   9.06537819e+00  -1.58424158e+01 ...,  -2.22791862e+01\n",
      "     4.63650665e+01   3.65825081e+00]\n",
      "  [  6.37783661e+01   1.22577248e+01  -7.05494003e+01 ...,   8.00912094e+01\n",
      "     5.13804245e+00  -8.89848232e+00]\n",
      "  ..., \n",
      "  [  1.87115440e+01   2.21656456e+01  -1.46684256e+01 ...,   4.85531616e+01\n",
      "     1.93568935e+01  -3.95282784e+01]\n",
      "  [  3.45163441e+00  -1.01756477e+00  -4.95473175e+01 ...,  -1.16978817e+01\n",
      "     2.46838036e+01   4.33153610e+01]\n",
      "  [  4.69404793e+01  -4.27314339e+01  -7.06046371e+01 ...,  -4.57604103e+01\n",
      "    -7.57448044e+01   8.61669064e-01]]\n",
      "\n",
      " ..., \n",
      " [[  5.95385818e+01  -4.46860390e+01   1.98644810e+01 ...,  -1.11916218e+01\n",
      "    -2.04612617e+01  -1.70996666e-01]\n",
      "  [  2.26709676e+00   6.30670433e+01  -3.63063316e+01 ...,  -3.92174911e+01\n",
      "    -2.17888546e+01   1.18250346e+00]\n",
      "  [  1.13768406e+01   2.09547577e+01  -1.11244068e+01 ...,   1.63278122e+01\n",
      "     4.23981361e+01  -5.82946854e+01]\n",
      "  ..., \n",
      "  [  5.61756420e+00   6.24273682e+01   2.40552101e+01 ...,  -1.25920153e+01\n",
      "    -4.13968563e+00  -2.80129929e+01]\n",
      "  [  5.40445976e+01   2.52943592e+01  -7.76399002e+01 ...,   6.10224762e+01\n",
      "    -1.43591194e+01   5.54469776e+00]\n",
      "  [  2.74606037e+01  -4.18579102e+01  -1.45091686e+01 ...,  -1.49794617e+01\n",
      "    -8.70350361e+00   5.70471764e-01]]\n",
      "\n",
      " [[  1.92320442e+01  -1.22830791e+01  -1.20643578e+01 ...,  -2.59044113e+01\n",
      "     2.82688274e+01  -3.64020233e+01]\n",
      "  [  2.94337387e+01   3.94134636e+01  -4.39161606e+01 ...,  -1.11585689e+00\n",
      "    -5.19171677e+01  -2.88854847e+01]\n",
      "  [  1.42200651e+01   3.24925423e+01   3.14560070e+01 ...,  -8.39178467e+00\n",
      "     3.18150005e+01  -7.15454292e+00]\n",
      "  ..., \n",
      "  [  6.98484573e+01   4.60112381e+01   2.34449139e+01 ...,   9.45800495e+00\n",
      "    -3.08726940e+01   7.34856892e+00]\n",
      "  [ -1.83202610e+01   2.05139637e+01  -4.42163658e+00 ...,   4.97900543e+01\n",
      "    -3.48770370e+01   6.36668701e+01]\n",
      "  [ -2.93470669e+01   1.41446743e+01  -1.57901993e+01 ...,   2.10150852e+01\n",
      "    -4.03221359e+01   7.45016403e+01]]\n",
      "\n",
      " [[ -5.12260551e+01   4.40769348e+01   5.51228762e-01 ...,   2.85894413e+01\n",
      "     2.11066437e+01  -1.87778072e+01]\n",
      "  [  2.51537437e+01  -3.35176492e+00  -4.10267029e+01 ...,   7.65267277e+00\n",
      "     2.89520721e+01   8.03773880e+00]\n",
      "  [  1.14598770e+01  -1.53101072e+01   2.62475796e+01 ...,  -1.09891462e+01\n",
      "    -4.07295303e+01  -2.63848629e+01]\n",
      "  ..., \n",
      "  [  1.44863138e+01   4.49666290e+01  -4.40024948e+01 ...,  -4.50678520e+01\n",
      "    -7.20142841e+00  -3.90672798e+01]\n",
      "  [  4.81762276e+01   4.84473686e+01   4.33956223e+01 ...,  -5.38480339e+01\n",
      "     9.51668024e-01  -2.54341011e+01]\n",
      "  [  1.40160141e+01   2.72423434e+00   2.91345429e+00 ...,   2.44865656e-01\n",
      "     4.02304268e+01  -2.49935074e+01]]]\n",
      "\n",
      "array output:\n",
      "[[[ -6.65979996e+01   3.57884369e+01   3.08080654e+01 ...,  -2.56579056e+01\n",
      "     2.51403561e+01   2.01629944e+01]\n",
      "  [ -2.64360561e+01   9.17732239e+00   3.54348717e+01 ...,  -1.36365671e+01\n",
      "     1.29201860e+01  -3.01656952e+01]\n",
      "  [ -3.06503391e+01   1.56007624e+01   1.91584454e+01 ...,  -3.29652977e+01\n",
      "    -7.89732504e+00   3.28605080e+01]\n",
      "  ..., \n",
      "  [ -7.45057373e+01   7.73295898e+01  -5.03282433e+01 ...,   2.76572666e+01\n",
      "     5.94777822e+00   6.19455528e+01]\n",
      "  [ -1.22332010e+01  -2.48603992e+01  -6.16130161e+00 ...,  -2.89679623e+01\n",
      "    -8.74921036e+00  -6.03145790e+01]\n",
      "  [  3.82904549e+01   2.44718590e+01   4.21352005e+01 ...,  -1.45621252e+01\n",
      "     2.72701302e+01  -2.33986435e+01]]\n",
      "\n",
      " [[ -3.10340977e+00   1.98069611e+01   1.48481884e+01 ...,   4.97260332e+00\n",
      "     6.91085720e+00   9.45441055e+00]\n",
      "  [ -7.98404574e-01   3.69464340e+01  -1.62201653e+01 ...,  -2.74526615e+01\n",
      "    -1.85471363e+01  -2.84474010e+01]\n",
      "  [  8.25180817e+01  -1.23186672e+00  -6.16100311e+00 ...,   4.20277672e+01\n",
      "     1.45076876e+01   3.90118294e+01]\n",
      "  ..., \n",
      "  [  2.92782841e+01   3.56311264e+01  -5.54660835e+01 ...,   1.89833622e+01\n",
      "    -1.55976391e+01  -1.63563843e+01]\n",
      "  [  2.11467037e+01  -1.23590078e+01  -4.53736038e+01 ...,  -2.30183296e+01\n",
      "     1.04320812e+01   3.34708595e+01]\n",
      "  [ -3.08124638e+01  -2.44740353e+01   4.51353550e+00 ...,  -3.43935204e+01\n",
      "     6.08710051e-02   2.08080978e+01]]\n",
      "\n",
      " [[  2.30994415e+01  -2.58660660e+01   1.47532482e+01 ...,   2.83151016e+01\n",
      "    -4.42299881e+01  -3.96175652e+01]\n",
      "  [  1.85515518e+01   9.06537819e+00  -1.58424158e+01 ...,  -2.22791862e+01\n",
      "     4.63650665e+01   3.65825081e+00]\n",
      "  [  6.37783661e+01   1.22577248e+01  -7.05494003e+01 ...,   8.00912094e+01\n",
      "     5.13804245e+00  -8.89848232e+00]\n",
      "  ..., \n",
      "  [  1.87115440e+01   2.21656456e+01  -1.46684256e+01 ...,   4.85531616e+01\n",
      "     1.93568935e+01  -3.95282784e+01]\n",
      "  [  3.45163441e+00  -1.01756477e+00  -4.95473175e+01 ...,  -1.16978817e+01\n",
      "     2.46838036e+01   4.33153610e+01]\n",
      "  [  4.69404793e+01  -4.27314339e+01  -7.06046371e+01 ...,  -4.57604103e+01\n",
      "    -7.57448044e+01   8.61669064e-01]]\n",
      "\n",
      " ..., \n",
      " [[  5.95385818e+01  -4.46860390e+01   1.98644810e+01 ...,  -1.11916218e+01\n",
      "    -2.04612617e+01  -1.70996666e-01]\n",
      "  [  2.26709676e+00   6.30670433e+01  -3.63063316e+01 ...,  -3.92174911e+01\n",
      "    -2.17888546e+01   1.18250346e+00]\n",
      "  [  1.13768406e+01   2.09547577e+01  -1.11244068e+01 ...,   1.63278122e+01\n",
      "     4.23981361e+01  -5.82946854e+01]\n",
      "  ..., \n",
      "  [  5.61756420e+00   6.24273682e+01   2.40552101e+01 ...,  -1.25920153e+01\n",
      "    -4.13968563e+00  -2.80129929e+01]\n",
      "  [  5.40445976e+01   2.52943592e+01  -7.76399002e+01 ...,   6.10224762e+01\n",
      "    -1.43591194e+01   5.54469776e+00]\n",
      "  [  2.74606037e+01  -4.18579102e+01  -1.45091686e+01 ...,  -1.49794617e+01\n",
      "    -8.70350361e+00   5.70471764e-01]]\n",
      "\n",
      " [[  1.92320442e+01  -1.22830791e+01  -1.20643578e+01 ...,  -2.59044113e+01\n",
      "     2.82688274e+01  -3.64020233e+01]\n",
      "  [  2.94337387e+01   3.94134636e+01  -4.39161606e+01 ...,  -1.11585689e+00\n",
      "    -5.19171677e+01  -2.88854847e+01]\n",
      "  [  1.42200651e+01   3.24925423e+01   3.14560070e+01 ...,  -8.39178467e+00\n",
      "     3.18150005e+01  -7.15454292e+00]\n",
      "  ..., \n",
      "  [  6.98484573e+01   4.60112381e+01   2.34449139e+01 ...,   9.45800495e+00\n",
      "    -3.08726940e+01   7.34856892e+00]\n",
      "  [ -1.83202610e+01   2.05139637e+01  -4.42163658e+00 ...,   4.97900543e+01\n",
      "    -3.48770370e+01   6.36668701e+01]\n",
      "  [ -2.93470669e+01   1.41446743e+01  -1.57901993e+01 ...,   2.10150852e+01\n",
      "    -4.03221359e+01   7.45016403e+01]]\n",
      "\n",
      " [[ -5.12260551e+01   4.40769348e+01   5.51228762e-01 ...,   2.85894413e+01\n",
      "     2.11066437e+01  -1.87778072e+01]\n",
      "  [  2.51537437e+01  -3.35176492e+00  -4.10267029e+01 ...,   7.65267277e+00\n",
      "     2.89520721e+01   8.03773880e+00]\n",
      "  [  1.14598770e+01  -1.53101072e+01   2.62475796e+01 ...,  -1.09891462e+01\n",
      "    -4.07295303e+01  -2.63848629e+01]\n",
      "  ..., \n",
      "  [  1.44863138e+01   4.49666290e+01  -4.40024948e+01 ...,  -4.50678520e+01\n",
      "    -7.20142841e+00  -3.90672798e+01]\n",
      "  [  4.81762276e+01   4.84473686e+01   4.33956223e+01 ...,  -5.38480339e+01\n",
      "     9.51668024e-01  -2.54341011e+01]\n",
      "  [  1.40160141e+01   2.72423434e+00   2.91345429e+00 ...,   2.44865656e-01\n",
      "     4.02304268e+01  -2.49935074e+01]]]\n"
     ]
    }
   ],
   "metadata": {
    "scrolled": false
   }
  },
  {
   "cell_type": "code",
   "execution_count": null,
   "source": [],
   "outputs": [],
   "metadata": {}
  }
 ],
 "metadata": {
  "kernelspec": {
   "display_name": "Python 3",
   "language": "python",
   "name": "python3"
  },
  "language_info": {
   "codemirror_mode": {
    "name": "ipython",
    "version": 3
   },
   "file_extension": ".py",
   "mimetype": "text/x-python",
   "name": "python",
   "nbconvert_exporter": "python",
   "pygments_lexer": "ipython3",
   "version": "3.6.5"
  }
 },
 "nbformat": 4,
 "nbformat_minor": 2
}